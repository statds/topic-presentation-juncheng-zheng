{
 "cells": [
  {
   "cell_type": "code",
   "execution_count": null,
   "id": "f14e9f2f",
   "metadata": {},
   "outputs": [],
   "source": [
    "from rpy2.robjects.packages import importr\n",
    "grdevices = importr('grDevices')\n",
    "grdevices.dev_off()"
   ]
  },
  {
   "cell_type": "code",
   "execution_count": null,
   "id": "52c4d3c9",
   "metadata": {},
   "outputs": [],
   "source": [
    "import rpy2.robjects as robjects\n",
    "from rpy2.robjects import Formula, Environment\n",
    "from rpy2.robjects.vectors import IntVector, FloatVector\n",
    "from rpy2.robjects.lib import grid\n",
    "from rpy2.robjects.packages import importr, data\n",
    "from rpy2.rinterface_lib.embedded import RRuntimeError\n",
    "import warnings\n",
    "\n",
    "# The R 'print' function\n",
    "rprint = robjects.globalenv.find(\"print\")\n",
    "stats = importr('stats')\n",
    "grdevices = importr('grDevices')\n",
    "base = importr('base')\n",
    "datasets = importr('datasets')"
   ]
  },
  {
   "cell_type": "code",
   "execution_count": null,
   "id": "50e1c370",
   "metadata": {},
   "outputs": [],
   "source": [
    "lattice = importr('lattice')"
   ]
  },
  {
   "cell_type": "code",
   "execution_count": null,
   "id": "9d1b581d",
   "metadata": {},
   "outputs": [],
   "source": [
    "xyplot = lattice.xyplot"
   ]
  },
  {
   "cell_type": "code",
   "execution_count": null,
   "id": "74e70b84",
   "metadata": {},
   "outputs": [],
   "source": [
    "datasets = importr('datasets')\n",
    "mtcars = data(datasets).fetch('mtcars')['mtcars']\n",
    "formula = Formula('mpg ~ wt')\n",
    "formula.getenvironment()['mpg'] = mtcars.rx2('mpg')\n",
    "formula.getenvironment()['wt'] = mtcars.rx2('wt')\n",
    "\n",
    "p = lattice.xyplot(formula)\n",
    "rprint(p)"
   ]
  },
  {
   "cell_type": "code",
   "execution_count": null,
   "id": "8da5fd6b",
   "metadata": {},
   "outputs": [],
   "source": [
    "p = lattice.xyplot(formula, groups = mtcars.rx2('cyl'))\n",
    "rprint(p)"
   ]
  },
  {
   "cell_type": "code",
   "execution_count": 2,
   "id": "e4d49266",
   "metadata": {},
   "outputs": [],
   "source": [
    "import rpy2.robjects as robjects\n",
    "from rpy2.robjects import Formula, Environment\n",
    "from rpy2.robjects.vectors import IntVector, FloatVector\n",
    "from rpy2.robjects.lib import grid\n",
    "from rpy2.robjects.packages import importr, data\n",
    "from rpy2.rinterface_lib.embedded import RRuntimeError\n",
    "import warnings\n",
    "import math, datetime\n",
    "import rpy2.robjects.lib.ggplot2 as ggplot2\n",
    "import rpy2.robjects as ro\n",
    "from rpy2.robjects.packages import importr\n",
    "# The R 'print' function\n",
    "rprint = robjects.globalenv.find(\"print\")\n",
    "stats = importr('stats')\n",
    "grdevices = importr('grDevices')\n",
    "base = importr('base')\n",
    "datasets = importr('datasets')\n",
    "\n",
    "base = importr('base')\n",
    "\n",
    "mtcars = data(datasets).fetch('mtcars')['mtcars']"
   ]
  },
  {
   "cell_type": "code",
   "execution_count": 3,
   "id": "4674e498",
   "metadata": {},
   "outputs": [],
   "source": [
    "gp = ggplot2.ggplot(mtcars)\n",
    "\n",
    "pp = (gp +\n",
    "      ggplot2.aes_string(x='wt', y='mpg') +\n",
    "      ggplot2.geom_point())\n",
    "\n",
    "pp.plot()"
   ]
  },
  {
   "cell_type": "code",
   "execution_count": null,
   "id": "49ab3803",
   "metadata": {},
   "outputs": [],
   "source": []
  }
 ],
 "metadata": {
  "kernelspec": {
   "display_name": "Python 3 (ipykernel)",
   "language": "python",
   "name": "python3"
  },
  "language_info": {
   "codemirror_mode": {
    "name": "ipython",
    "version": 3
   },
   "file_extension": ".py",
   "mimetype": "text/x-python",
   "name": "python",
   "nbconvert_exporter": "python",
   "pygments_lexer": "ipython3",
   "version": "3.9.7"
  }
 },
 "nbformat": 4,
 "nbformat_minor": 5
}
